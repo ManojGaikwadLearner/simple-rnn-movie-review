{
 "cells": [
  {
   "cell_type": "code",
   "execution_count": 2,
   "id": "75f7ce43",
   "metadata": {},
   "outputs": [],
   "source": [
    "from tensorflow.keras.preprocessing.text import one_hot"
   ]
  },
  {
   "cell_type": "code",
   "execution_count": null,
   "id": "10d2d83a",
   "metadata": {},
   "outputs": [],
   "source": [
    "## sentences for one hot encoding\n",
    "sentences = [\n",
    "    'the glass of milk',\n",
    "    'the glass of juice',\n",
    "    'the cup of tea',\n",
    "    'I am a good boy'\n",
    "    'I am a good developer',\n",
    "    'understand the meaning of words',\n",
    "    'your videos are good'\n",
    "]\n"
   ]
  },
  {
   "cell_type": "code",
   "execution_count": 4,
   "id": "91b589e9",
   "metadata": {},
   "outputs": [],
   "source": [
    "## Define vocabulary size\n",
    "vocab_size = 10000"
   ]
  },
  {
   "cell_type": "code",
   "execution_count": 6,
   "id": "b4d49514",
   "metadata": {},
   "outputs": [
    {
     "name": "stdout",
     "output_type": "stream",
     "text": [
      "[[6733, 7656, 3227, 7620], [6733, 7656, 3227, 8049], [6733, 8896, 3227, 4479], [719, 8072, 9163, 5110, 6670, 8072, 9163, 5110, 5164], [9926, 6733, 1830, 3227, 4303], [2790, 9785, 6678, 5110]]\n"
     ]
    }
   ],
   "source": [
    "## One Hot Representation\n",
    "onehot_repr = [one_hot(words, vocab_size) for words in sentences]\n",
    "print(onehot_repr)"
   ]
  },
  {
   "cell_type": "code",
   "execution_count": 8,
   "id": "2d1f21d5",
   "metadata": {},
   "outputs": [],
   "source": [
    "# Word Embedding Representation\n",
    "from tensorflow.keras.layers import Embedding\n",
    "from tensorflow.keras.preprocessing.sequence import pad_sequences\n",
    "from tensorflow.keras.models import Sequential\n",
    "import numpy as np"
   ]
  },
  {
   "cell_type": "code",
   "execution_count": 11,
   "id": "e8878abb",
   "metadata": {},
   "outputs": [
    {
     "name": "stdout",
     "output_type": "stream",
     "text": [
      "[[   0    0    0    0 6733 7656 3227 7620]\n",
      " [   0    0    0    0 6733 7656 3227 8049]\n",
      " [   0    0    0    0 6733 8896 3227 4479]\n",
      " [8072 9163 5110 6670 8072 9163 5110 5164]\n",
      " [   0    0    0 9926 6733 1830 3227 4303]\n",
      " [   0    0    0    0 2790 9785 6678 5110]]\n"
     ]
    }
   ],
   "source": [
    "sent_length = 8\n",
    "embedded_docs = pad_sequences(onehot_repr, padding='pre', maxlen=sent_length)\n",
    "print(embedded_docs)"
   ]
  },
  {
   "cell_type": "code",
   "execution_count": 16,
   "id": "09a9b082",
   "metadata": {},
   "outputs": [
    {
     "data": {
      "text/html": [
       "<pre style=\"white-space:pre;overflow-x:auto;line-height:normal;font-family:Menlo,'DejaVu Sans Mono',consolas,'Courier New',monospace\"><span style=\"font-weight: bold\">Model: \"sequential_4\"</span>\n",
       "</pre>\n"
      ],
      "text/plain": [
       "\u001b[1mModel: \"sequential_4\"\u001b[0m\n"
      ]
     },
     "metadata": {},
     "output_type": "display_data"
    },
    {
     "data": {
      "text/html": [
       "<pre style=\"white-space:pre;overflow-x:auto;line-height:normal;font-family:Menlo,'DejaVu Sans Mono',consolas,'Courier New',monospace\">┏━━━━━━━━━━━━━━━━━━━━━━━━━━━━━━━━━┳━━━━━━━━━━━━━━━━━━━━━━━━┳━━━━━━━━━━━━━━━┓\n",
       "┃<span style=\"font-weight: bold\"> Layer (type)                    </span>┃<span style=\"font-weight: bold\"> Output Shape           </span>┃<span style=\"font-weight: bold\">       Param # </span>┃\n",
       "┡━━━━━━━━━━━━━━━━━━━━━━━━━━━━━━━━━╇━━━━━━━━━━━━━━━━━━━━━━━━╇━━━━━━━━━━━━━━━┩\n",
       "│ embedding_2 (<span style=\"color: #0087ff; text-decoration-color: #0087ff\">Embedding</span>)         │ ?                      │   <span style=\"color: #00af00; text-decoration-color: #00af00\">0</span> (unbuilt) │\n",
       "└─────────────────────────────────┴────────────────────────┴───────────────┘\n",
       "</pre>\n"
      ],
      "text/plain": [
       "┏━━━━━━━━━━━━━━━━━━━━━━━━━━━━━━━━━┳━━━━━━━━━━━━━━━━━━━━━━━━┳━━━━━━━━━━━━━━━┓\n",
       "┃\u001b[1m \u001b[0m\u001b[1mLayer (type)                   \u001b[0m\u001b[1m \u001b[0m┃\u001b[1m \u001b[0m\u001b[1mOutput Shape          \u001b[0m\u001b[1m \u001b[0m┃\u001b[1m \u001b[0m\u001b[1m      Param #\u001b[0m\u001b[1m \u001b[0m┃\n",
       "┡━━━━━━━━━━━━━━━━━━━━━━━━━━━━━━━━━╇━━━━━━━━━━━━━━━━━━━━━━━━╇━━━━━━━━━━━━━━━┩\n",
       "│ embedding_2 (\u001b[38;5;33mEmbedding\u001b[0m)         │ ?                      │   \u001b[38;5;34m0\u001b[0m (unbuilt) │\n",
       "└─────────────────────────────────┴────────────────────────┴───────────────┘\n"
      ]
     },
     "metadata": {},
     "output_type": "display_data"
    },
    {
     "data": {
      "text/html": [
       "<pre style=\"white-space:pre;overflow-x:auto;line-height:normal;font-family:Menlo,'DejaVu Sans Mono',consolas,'Courier New',monospace\"><span style=\"font-weight: bold\"> Total params: </span><span style=\"color: #00af00; text-decoration-color: #00af00\">0</span> (0.00 B)\n",
       "</pre>\n"
      ],
      "text/plain": [
       "\u001b[1m Total params: \u001b[0m\u001b[38;5;34m0\u001b[0m (0.00 B)\n"
      ]
     },
     "metadata": {},
     "output_type": "display_data"
    },
    {
     "data": {
      "text/html": [
       "<pre style=\"white-space:pre;overflow-x:auto;line-height:normal;font-family:Menlo,'DejaVu Sans Mono',consolas,'Courier New',monospace\"><span style=\"font-weight: bold\"> Trainable params: </span><span style=\"color: #00af00; text-decoration-color: #00af00\">0</span> (0.00 B)\n",
       "</pre>\n"
      ],
      "text/plain": [
       "\u001b[1m Trainable params: \u001b[0m\u001b[38;5;34m0\u001b[0m (0.00 B)\n"
      ]
     },
     "metadata": {},
     "output_type": "display_data"
    },
    {
     "data": {
      "text/html": [
       "<pre style=\"white-space:pre;overflow-x:auto;line-height:normal;font-family:Menlo,'DejaVu Sans Mono',consolas,'Courier New',monospace\"><span style=\"font-weight: bold\"> Non-trainable params: </span><span style=\"color: #00af00; text-decoration-color: #00af00\">0</span> (0.00 B)\n",
       "</pre>\n"
      ],
      "text/plain": [
       "\u001b[1m Non-trainable params: \u001b[0m\u001b[38;5;34m0\u001b[0m (0.00 B)\n"
      ]
     },
     "metadata": {},
     "output_type": "display_data"
    },
    {
     "name": "stdout",
     "output_type": "stream",
     "text": [
      "None\n"
     ]
    }
   ],
   "source": [
    "## Feature Representation\n",
    "dim = 10\n",
    "model = Sequential()\n",
    "model.add(Embedding(vocab_size, dim, input_length=sent_length))\n",
    "model.compile('adam', 'mse')\n",
    "print(model.summary())"
   ]
  },
  {
   "cell_type": "code",
   "execution_count": 19,
   "id": "8ada3876",
   "metadata": {},
   "outputs": [
    {
     "name": "stdout",
     "output_type": "stream",
     "text": [
      "\u001b[1m1/1\u001b[0m \u001b[32m━━━━━━━━━━━━━━━━━━━━\u001b[0m\u001b[37m\u001b[0m \u001b[1m0s\u001b[0m 15ms/step\n"
     ]
    },
    {
     "data": {
      "text/plain": [
       "array([[[ 0.03574903,  0.0296347 , -0.00516541, -0.01061757,\n",
       "         -0.02684062,  0.02877076,  0.00206392, -0.04958204,\n",
       "         -0.01021159, -0.00672513],\n",
       "        [ 0.03574903,  0.0296347 , -0.00516541, -0.01061757,\n",
       "         -0.02684062,  0.02877076,  0.00206392, -0.04958204,\n",
       "         -0.01021159, -0.00672513],\n",
       "        [ 0.03574903,  0.0296347 , -0.00516541, -0.01061757,\n",
       "         -0.02684062,  0.02877076,  0.00206392, -0.04958204,\n",
       "         -0.01021159, -0.00672513],\n",
       "        [ 0.03574903,  0.0296347 , -0.00516541, -0.01061757,\n",
       "         -0.02684062,  0.02877076,  0.00206392, -0.04958204,\n",
       "         -0.01021159, -0.00672513],\n",
       "        [ 0.01841232,  0.0114697 , -0.0343297 , -0.01719364,\n",
       "         -0.00883182, -0.02201923,  0.04658515, -0.00662309,\n",
       "          0.01453373, -0.03536584],\n",
       "        [ 0.0107365 , -0.01565458,  0.01877816, -0.04352342,\n",
       "         -0.01300437,  0.04937836, -0.03847864, -0.00244296,\n",
       "         -0.0205103 , -0.01629533],\n",
       "        [-0.00669078, -0.04654776, -0.01114555,  0.01572298,\n",
       "          0.04370027,  0.03411463, -0.01878003, -0.01951175,\n",
       "          0.0310799 ,  0.02950652],\n",
       "        [-0.03762543,  0.00500141,  0.04602691, -0.01391187,\n",
       "         -0.02491646,  0.02327312,  0.01974967,  0.02702371,\n",
       "         -0.00389525, -0.0282146 ]],\n",
       "\n",
       "       [[ 0.03574903,  0.0296347 , -0.00516541, -0.01061757,\n",
       "         -0.02684062,  0.02877076,  0.00206392, -0.04958204,\n",
       "         -0.01021159, -0.00672513],\n",
       "        [ 0.03574903,  0.0296347 , -0.00516541, -0.01061757,\n",
       "         -0.02684062,  0.02877076,  0.00206392, -0.04958204,\n",
       "         -0.01021159, -0.00672513],\n",
       "        [ 0.03574903,  0.0296347 , -0.00516541, -0.01061757,\n",
       "         -0.02684062,  0.02877076,  0.00206392, -0.04958204,\n",
       "         -0.01021159, -0.00672513],\n",
       "        [ 0.03574903,  0.0296347 , -0.00516541, -0.01061757,\n",
       "         -0.02684062,  0.02877076,  0.00206392, -0.04958204,\n",
       "         -0.01021159, -0.00672513],\n",
       "        [ 0.01841232,  0.0114697 , -0.0343297 , -0.01719364,\n",
       "         -0.00883182, -0.02201923,  0.04658515, -0.00662309,\n",
       "          0.01453373, -0.03536584],\n",
       "        [ 0.0107365 , -0.01565458,  0.01877816, -0.04352342,\n",
       "         -0.01300437,  0.04937836, -0.03847864, -0.00244296,\n",
       "         -0.0205103 , -0.01629533],\n",
       "        [-0.00669078, -0.04654776, -0.01114555,  0.01572298,\n",
       "          0.04370027,  0.03411463, -0.01878003, -0.01951175,\n",
       "          0.0310799 ,  0.02950652],\n",
       "        [ 0.0229448 ,  0.01495333,  0.00670554, -0.00377333,\n",
       "          0.04267902,  0.03111679, -0.02281015, -0.00681722,\n",
       "          0.04449569,  0.01989141]],\n",
       "\n",
       "       [[ 0.03574903,  0.0296347 , -0.00516541, -0.01061757,\n",
       "         -0.02684062,  0.02877076,  0.00206392, -0.04958204,\n",
       "         -0.01021159, -0.00672513],\n",
       "        [ 0.03574903,  0.0296347 , -0.00516541, -0.01061757,\n",
       "         -0.02684062,  0.02877076,  0.00206392, -0.04958204,\n",
       "         -0.01021159, -0.00672513],\n",
       "        [ 0.03574903,  0.0296347 , -0.00516541, -0.01061757,\n",
       "         -0.02684062,  0.02877076,  0.00206392, -0.04958204,\n",
       "         -0.01021159, -0.00672513],\n",
       "        [ 0.03574903,  0.0296347 , -0.00516541, -0.01061757,\n",
       "         -0.02684062,  0.02877076,  0.00206392, -0.04958204,\n",
       "         -0.01021159, -0.00672513],\n",
       "        [ 0.01841232,  0.0114697 , -0.0343297 , -0.01719364,\n",
       "         -0.00883182, -0.02201923,  0.04658515, -0.00662309,\n",
       "          0.01453373, -0.03536584],\n",
       "        [ 0.0043355 ,  0.04670359, -0.00550045,  0.04705561,\n",
       "         -0.00318239,  0.04955165, -0.04499462,  0.02308387,\n",
       "         -0.03528358,  0.03879236],\n",
       "        [-0.00669078, -0.04654776, -0.01114555,  0.01572298,\n",
       "          0.04370027,  0.03411463, -0.01878003, -0.01951175,\n",
       "          0.0310799 ,  0.02950652],\n",
       "        [-0.03906498, -0.04141353, -0.0382167 , -0.04942526,\n",
       "          0.01784911, -0.02248061,  0.04442561, -0.03766563,\n",
       "         -0.01028408,  0.00883776]],\n",
       "\n",
       "       [[ 0.0075158 , -0.01538787, -0.00218064, -0.01765295,\n",
       "          0.04317507, -0.0202042 ,  0.01145233,  0.04502768,\n",
       "          0.0366905 ,  0.03049738],\n",
       "        [-0.01382892,  0.01336166, -0.00177945,  0.04751451,\n",
       "         -0.01602577,  0.01854831,  0.00800641, -0.02685908,\n",
       "          0.01972766, -0.01382194],\n",
       "        [ 0.03236928,  0.03365736,  0.00644779, -0.01220318,\n",
       "          0.00795239, -0.00161754,  0.0194175 , -0.02453165,\n",
       "          0.00842556,  0.0217202 ],\n",
       "        [-0.00700191,  0.04866754,  0.04528245,  0.01253397,\n",
       "         -0.04428747,  0.04332427,  0.04973422, -0.01747306,\n",
       "          0.02059727,  0.03407523],\n",
       "        [ 0.0075158 , -0.01538787, -0.00218064, -0.01765295,\n",
       "          0.04317507, -0.0202042 ,  0.01145233,  0.04502768,\n",
       "          0.0366905 ,  0.03049738],\n",
       "        [-0.01382892,  0.01336166, -0.00177945,  0.04751451,\n",
       "         -0.01602577,  0.01854831,  0.00800641, -0.02685908,\n",
       "          0.01972766, -0.01382194],\n",
       "        [ 0.03236928,  0.03365736,  0.00644779, -0.01220318,\n",
       "          0.00795239, -0.00161754,  0.0194175 , -0.02453165,\n",
       "          0.00842556,  0.0217202 ],\n",
       "        [ 0.01481855,  0.00972867,  0.0478798 , -0.0348752 ,\n",
       "         -0.03509597, -0.01084609, -0.01313506,  0.04534825,\n",
       "         -0.04899922,  0.04846719]],\n",
       "\n",
       "       [[ 0.03574903,  0.0296347 , -0.00516541, -0.01061757,\n",
       "         -0.02684062,  0.02877076,  0.00206392, -0.04958204,\n",
       "         -0.01021159, -0.00672513],\n",
       "        [ 0.03574903,  0.0296347 , -0.00516541, -0.01061757,\n",
       "         -0.02684062,  0.02877076,  0.00206392, -0.04958204,\n",
       "         -0.01021159, -0.00672513],\n",
       "        [ 0.03574903,  0.0296347 , -0.00516541, -0.01061757,\n",
       "         -0.02684062,  0.02877076,  0.00206392, -0.04958204,\n",
       "         -0.01021159, -0.00672513],\n",
       "        [ 0.04219517,  0.02811331, -0.01685511,  0.03690432,\n",
       "          0.00451476,  0.03892635, -0.0499599 , -0.04325459,\n",
       "          0.04249802,  0.03618551],\n",
       "        [ 0.01841232,  0.0114697 , -0.0343297 , -0.01719364,\n",
       "         -0.00883182, -0.02201923,  0.04658515, -0.00662309,\n",
       "          0.01453373, -0.03536584],\n",
       "        [ 0.01178179, -0.04837631,  0.02763747,  0.01821036,\n",
       "         -0.02859789, -0.03679255,  0.04036233, -0.00302511,\n",
       "         -0.0471109 , -0.03592422],\n",
       "        [-0.00669078, -0.04654776, -0.01114555,  0.01572298,\n",
       "          0.04370027,  0.03411463, -0.01878003, -0.01951175,\n",
       "          0.0310799 ,  0.02950652],\n",
       "        [ 0.00816677, -0.01307946, -0.01242405, -0.00500436,\n",
       "          0.02941601, -0.0252111 , -0.03770284, -0.01904825,\n",
       "         -0.01675128,  0.0214935 ]],\n",
       "\n",
       "       [[ 0.03574903,  0.0296347 , -0.00516541, -0.01061757,\n",
       "         -0.02684062,  0.02877076,  0.00206392, -0.04958204,\n",
       "         -0.01021159, -0.00672513],\n",
       "        [ 0.03574903,  0.0296347 , -0.00516541, -0.01061757,\n",
       "         -0.02684062,  0.02877076,  0.00206392, -0.04958204,\n",
       "         -0.01021159, -0.00672513],\n",
       "        [ 0.03574903,  0.0296347 , -0.00516541, -0.01061757,\n",
       "         -0.02684062,  0.02877076,  0.00206392, -0.04958204,\n",
       "         -0.01021159, -0.00672513],\n",
       "        [ 0.03574903,  0.0296347 , -0.00516541, -0.01061757,\n",
       "         -0.02684062,  0.02877076,  0.00206392, -0.04958204,\n",
       "         -0.01021159, -0.00672513],\n",
       "        [ 0.00941794,  0.01800202, -0.02393867, -0.0117715 ,\n",
       "         -0.02730931, -0.02269257,  0.02548608, -0.03157741,\n",
       "          0.00840751,  0.03947009],\n",
       "        [ 0.03897032, -0.00081673, -0.03962224,  0.01007124,\n",
       "         -0.03381296,  0.04310444,  0.01330122, -0.03269837,\n",
       "          0.04550878, -0.01204219],\n",
       "        [-0.04121606,  0.01622478,  0.02010189, -0.04523913,\n",
       "         -0.01024271,  0.0181318 ,  0.00517671, -0.02692841,\n",
       "         -0.01003505, -0.02413769],\n",
       "        [ 0.03236928,  0.03365736,  0.00644779, -0.01220318,\n",
       "          0.00795239, -0.00161754,  0.0194175 , -0.02453165,\n",
       "          0.00842556,  0.0217202 ]]], dtype=float32)"
      ]
     },
     "execution_count": 19,
     "metadata": {},
     "output_type": "execute_result"
    }
   ],
   "source": [
    "model.predict(embedded_docs)"
   ]
  },
  {
   "cell_type": "code",
   "execution_count": 20,
   "id": "50f9c28b",
   "metadata": {},
   "outputs": [
    {
     "data": {
      "text/plain": [
       "array([   0,    0,    0,    0, 6733, 7656, 3227, 7620], dtype=int32)"
      ]
     },
     "execution_count": 20,
     "metadata": {},
     "output_type": "execute_result"
    }
   ],
   "source": [
    "embedded_docs[0]"
   ]
  },
  {
   "cell_type": "code",
   "execution_count": null,
   "id": "cdefbdaf",
   "metadata": {},
   "outputs": [],
   "source": []
  },
  {
   "cell_type": "code",
   "execution_count": null,
   "id": "2f04a935",
   "metadata": {},
   "outputs": [],
   "source": []
  },
  {
   "cell_type": "code",
   "execution_count": null,
   "id": "aa2d3078",
   "metadata": {},
   "outputs": [],
   "source": []
  },
  {
   "cell_type": "code",
   "execution_count": null,
   "id": "ee725ce5",
   "metadata": {},
   "outputs": [],
   "source": []
  },
  {
   "cell_type": "code",
   "execution_count": null,
   "id": "a7882b9a",
   "metadata": {},
   "outputs": [],
   "source": []
  },
  {
   "cell_type": "code",
   "execution_count": null,
   "id": "7f105ae1",
   "metadata": {},
   "outputs": [],
   "source": []
  },
  {
   "cell_type": "code",
   "execution_count": null,
   "id": "fc010b5e",
   "metadata": {},
   "outputs": [],
   "source": []
  },
  {
   "cell_type": "code",
   "execution_count": null,
   "id": "85634083",
   "metadata": {},
   "outputs": [],
   "source": []
  },
  {
   "cell_type": "code",
   "execution_count": null,
   "id": "9bca44e8",
   "metadata": {},
   "outputs": [],
   "source": []
  },
  {
   "cell_type": "code",
   "execution_count": null,
   "id": "29c0f954",
   "metadata": {},
   "outputs": [],
   "source": []
  },
  {
   "cell_type": "code",
   "execution_count": null,
   "id": "bde51a6d",
   "metadata": {},
   "outputs": [],
   "source": []
  }
 ],
 "metadata": {
  "kernelspec": {
   "display_name": "Python 3",
   "language": "python",
   "name": "python3"
  },
  "language_info": {
   "codemirror_mode": {
    "name": "ipython",
    "version": 3
   },
   "file_extension": ".py",
   "mimetype": "text/x-python",
   "name": "python",
   "nbconvert_exporter": "python",
   "pygments_lexer": "ipython3",
   "version": "3.12.0"
  }
 },
 "nbformat": 4,
 "nbformat_minor": 5
}
